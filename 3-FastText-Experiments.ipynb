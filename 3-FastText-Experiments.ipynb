{
  "nbformat": 4,
  "nbformat_minor": 0,
  "metadata": {
    "colab": {
      "name": "Subjective/objective_classification_GINCO_FastText.ipynb",
      "provenance": []
    },
    "kernelspec": {
      "name": "python3",
      "display_name": "Python 3"
    },
    "language_info": {
      "name": "python"
    }
  },
  "cells": [
    {
      "cell_type": "code",
      "source": [
        "# Wrap cells\n",
        "\n",
        "from IPython.display import HTML, display\n",
        "\n",
        "def set_css():\n",
        "  display(HTML('''\n",
        "  <style>\n",
        "    pre {\n",
        "        white-space: pre-wrap;\n",
        "    }\n",
        "  </style>\n",
        "  '''))\n",
        "get_ipython().events.register('pre_run_cell', set_css)"
      ],
      "metadata": {
        "colab": {
          "base_uri": "https://localhost:8080/",
          "height": 17
        },
        "id": "gFkckuLT4jYD",
        "outputId": "700e7dc5-8d19-43c3-d4e7-efd96eba2160"
      },
      "execution_count": 7,
      "outputs": [
        {
          "output_type": "display_data",
          "data": {
            "text/plain": [
              "<IPython.core.display.HTML object>"
            ],
            "text/html": [
              "\n",
              "  <style>\n",
              "    pre {\n",
              "        white-space: pre-wrap;\n",
              "    }\n",
              "  </style>\n",
              "  "
            ]
          },
          "metadata": {}
        }
      ]
    },
    {
      "cell_type": "code",
      "execution_count": 2,
      "metadata": {
        "id": "15n_-vLd2-88"
      },
      "outputs": [],
      "source": [
        "import numpy as np\n",
        "import pandas as pd\n",
        "from sklearn.model_selection import train_test_split\n",
        "from sklearn import metrics\n",
        "from sklearn.metrics import classification_report, confusion_matrix, f1_score\n",
        "from sklearn.dummy import DummyClassifier\n",
        "from sklearn.pipeline import make_pipeline\n",
        "from sklearn.naive_bayes import MultinomialNB,ComplementNB\n",
        "from sklearn.linear_model import LogisticRegression\n",
        "from sklearn.svm import SVC\n",
        "from sklearn.ensemble import RandomForestClassifier\n",
        "from sklearn.tree import DecisionTreeClassifier\n",
        "from sklearn.metrics import ConfusionMatrixDisplay\n",
        "import matplotlib.pyplot as plt\n",
        "import sklearn.feature_extraction\n",
        "from sklearn.svm import SVC"
      ]
    },
    {
      "cell_type": "code",
      "source": [
        "!wget https://github.com/facebookresearch/fastText/archive/v0.9.2.zip\n",
        "!unzip v0.9.2.zip"
      ],
      "metadata": {
        "id": "UgyCEJs23LoS"
      },
      "execution_count": null,
      "outputs": []
    },
    {
      "cell_type": "code",
      "source": [
        "%cd fastText-0.9.2\n",
        "\n",
        "!pip install ."
      ],
      "metadata": {
        "id": "BlG5CCQ13Qam"
      },
      "execution_count": null,
      "outputs": []
    },
    {
      "cell_type": "code",
      "source": [
        "import fasttext as ft"
      ],
      "metadata": {
        "id": "mx1HOKyA3ObT"
      },
      "execution_count": 5,
      "outputs": []
    },
    {
      "cell_type": "code",
      "source": [
        "# Import the dataset, prepared in \"1-Data-Preparation.ipynb\" and the datasets in FastText format\n",
        "dataset = pd.read_csv(\"/content/fastText-0.9.2/MT-GINCO-split-objectivity-dataset.csv\")\n",
        "dataset.head()"
      ],
      "metadata": {
        "colab": {
          "base_uri": "https://localhost:8080/",
          "height": 206
        },
        "id": "FEQ8R6yl34Nw",
        "outputId": "b5f3788b-c4ad-46d4-b63d-902a3a362685"
      },
      "execution_count": 56,
      "outputs": [
        {
          "output_type": "display_data",
          "data": {
            "text/plain": [
              "<IPython.core.display.HTML object>"
            ],
            "text/html": [
              "\n",
              "  <style>\n",
              "    pre {\n",
              "        white-space: pre-wrap;\n",
              "    }\n",
              "  </style>\n",
              "  "
            ]
          },
          "metadata": {}
        },
        {
          "output_type": "display_data",
          "data": {
            "text/plain": [
              "<IPython.core.display.HTML object>"
            ],
            "text/html": [
              "\n",
              "  <style>\n",
              "    pre {\n",
              "        white-space: pre-wrap;\n",
              "    }\n",
              "  </style>\n",
              "  "
            ]
          },
          "metadata": {}
        },
        {
          "output_type": "execute_result",
          "data": {
            "text/plain": [
              "                                                text       label  split\n",
              "0  For the first time since 2008 <p/> Dallas, 12....  subjective  train\n",
              "1  17 replies to \" Even in the municipality of Ra...  subjective  train\n",
              "2  Esimit Europa <p/> Vasili's main sponsor is Es...  subjective  train\n",
              "3  Beekeepers' successes <p/> The 37th National M...   objective  train\n",
              "4  Kundalini Yoga <p/> GUIDE <p/> Kundalini Yoga ...  subjective  train"
            ],
            "text/html": [
              "\n",
              "  <div id=\"df-60c567c6-9f96-46e7-aef7-e16961d84694\">\n",
              "    <div class=\"colab-df-container\">\n",
              "      <div>\n",
              "<style scoped>\n",
              "    .dataframe tbody tr th:only-of-type {\n",
              "        vertical-align: middle;\n",
              "    }\n",
              "\n",
              "    .dataframe tbody tr th {\n",
              "        vertical-align: top;\n",
              "    }\n",
              "\n",
              "    .dataframe thead th {\n",
              "        text-align: right;\n",
              "    }\n",
              "</style>\n",
              "<table border=\"1\" class=\"dataframe\">\n",
              "  <thead>\n",
              "    <tr style=\"text-align: right;\">\n",
              "      <th></th>\n",
              "      <th>text</th>\n",
              "      <th>label</th>\n",
              "      <th>split</th>\n",
              "    </tr>\n",
              "  </thead>\n",
              "  <tbody>\n",
              "    <tr>\n",
              "      <th>0</th>\n",
              "      <td>For the first time since 2008 &lt;p/&gt; Dallas, 12....</td>\n",
              "      <td>subjective</td>\n",
              "      <td>train</td>\n",
              "    </tr>\n",
              "    <tr>\n",
              "      <th>1</th>\n",
              "      <td>17 replies to \" Even in the municipality of Ra...</td>\n",
              "      <td>subjective</td>\n",
              "      <td>train</td>\n",
              "    </tr>\n",
              "    <tr>\n",
              "      <th>2</th>\n",
              "      <td>Esimit Europa &lt;p/&gt; Vasili's main sponsor is Es...</td>\n",
              "      <td>subjective</td>\n",
              "      <td>train</td>\n",
              "    </tr>\n",
              "    <tr>\n",
              "      <th>3</th>\n",
              "      <td>Beekeepers' successes &lt;p/&gt; The 37th National M...</td>\n",
              "      <td>objective</td>\n",
              "      <td>train</td>\n",
              "    </tr>\n",
              "    <tr>\n",
              "      <th>4</th>\n",
              "      <td>Kundalini Yoga &lt;p/&gt; GUIDE &lt;p/&gt; Kundalini Yoga ...</td>\n",
              "      <td>subjective</td>\n",
              "      <td>train</td>\n",
              "    </tr>\n",
              "  </tbody>\n",
              "</table>\n",
              "</div>\n",
              "      <button class=\"colab-df-convert\" onclick=\"convertToInteractive('df-60c567c6-9f96-46e7-aef7-e16961d84694')\"\n",
              "              title=\"Convert this dataframe to an interactive table.\"\n",
              "              style=\"display:none;\">\n",
              "        \n",
              "  <svg xmlns=\"http://www.w3.org/2000/svg\" height=\"24px\"viewBox=\"0 0 24 24\"\n",
              "       width=\"24px\">\n",
              "    <path d=\"M0 0h24v24H0V0z\" fill=\"none\"/>\n",
              "    <path d=\"M18.56 5.44l.94 2.06.94-2.06 2.06-.94-2.06-.94-.94-2.06-.94 2.06-2.06.94zm-11 1L8.5 8.5l.94-2.06 2.06-.94-2.06-.94L8.5 2.5l-.94 2.06-2.06.94zm10 10l.94 2.06.94-2.06 2.06-.94-2.06-.94-.94-2.06-.94 2.06-2.06.94z\"/><path d=\"M17.41 7.96l-1.37-1.37c-.4-.4-.92-.59-1.43-.59-.52 0-1.04.2-1.43.59L10.3 9.45l-7.72 7.72c-.78.78-.78 2.05 0 2.83L4 21.41c.39.39.9.59 1.41.59.51 0 1.02-.2 1.41-.59l7.78-7.78 2.81-2.81c.8-.78.8-2.07 0-2.86zM5.41 20L4 18.59l7.72-7.72 1.47 1.35L5.41 20z\"/>\n",
              "  </svg>\n",
              "      </button>\n",
              "      \n",
              "  <style>\n",
              "    .colab-df-container {\n",
              "      display:flex;\n",
              "      flex-wrap:wrap;\n",
              "      gap: 12px;\n",
              "    }\n",
              "\n",
              "    .colab-df-convert {\n",
              "      background-color: #E8F0FE;\n",
              "      border: none;\n",
              "      border-radius: 50%;\n",
              "      cursor: pointer;\n",
              "      display: none;\n",
              "      fill: #1967D2;\n",
              "      height: 32px;\n",
              "      padding: 0 0 0 0;\n",
              "      width: 32px;\n",
              "    }\n",
              "\n",
              "    .colab-df-convert:hover {\n",
              "      background-color: #E2EBFA;\n",
              "      box-shadow: 0px 1px 2px rgba(60, 64, 67, 0.3), 0px 1px 3px 1px rgba(60, 64, 67, 0.15);\n",
              "      fill: #174EA6;\n",
              "    }\n",
              "\n",
              "    [theme=dark] .colab-df-convert {\n",
              "      background-color: #3B4455;\n",
              "      fill: #D2E3FC;\n",
              "    }\n",
              "\n",
              "    [theme=dark] .colab-df-convert:hover {\n",
              "      background-color: #434B5C;\n",
              "      box-shadow: 0px 1px 3px 1px rgba(0, 0, 0, 0.15);\n",
              "      filter: drop-shadow(0px 1px 2px rgba(0, 0, 0, 0.3));\n",
              "      fill: #FFFFFF;\n",
              "    }\n",
              "  </style>\n",
              "\n",
              "      <script>\n",
              "        const buttonEl =\n",
              "          document.querySelector('#df-60c567c6-9f96-46e7-aef7-e16961d84694 button.colab-df-convert');\n",
              "        buttonEl.style.display =\n",
              "          google.colab.kernel.accessAllowed ? 'block' : 'none';\n",
              "\n",
              "        async function convertToInteractive(key) {\n",
              "          const element = document.querySelector('#df-60c567c6-9f96-46e7-aef7-e16961d84694');\n",
              "          const dataTable =\n",
              "            await google.colab.kernel.invokeFunction('convertToInteractive',\n",
              "                                                     [key], {});\n",
              "          if (!dataTable) return;\n",
              "\n",
              "          const docLinkHtml = 'Like what you see? Visit the ' +\n",
              "            '<a target=\"_blank\" href=https://colab.research.google.com/notebooks/data_table.ipynb>data table notebook</a>'\n",
              "            + ' to learn more about interactive tables.';\n",
              "          element.innerHTML = '';\n",
              "          dataTable['output_type'] = 'display_data';\n",
              "          await google.colab.output.renderOutput(dataTable, element);\n",
              "          const docLink = document.createElement('div');\n",
              "          docLink.innerHTML = docLinkHtml;\n",
              "          element.appendChild(docLink);\n",
              "        }\n",
              "      </script>\n",
              "    </div>\n",
              "  </div>\n",
              "  "
            ]
          },
          "metadata": {},
          "execution_count": 56
        }
      ]
    },
    {
      "cell_type": "code",
      "source": [
        "# Change the labels into FastText-appropriate format\n",
        "ft_labels = {\"objective\":\"__label__objective\", \"subjective\":\"__label__subjective\"}\n",
        "\n",
        "dataset[\"label\"].replace(ft_labels, inplace=True)\n",
        "dataset.head(1)"
      ],
      "metadata": {
        "colab": {
          "base_uri": "https://localhost:8080/",
          "height": 81
        },
        "id": "5NdmsXAm46F-",
        "outputId": "16a4d4cb-e702-48af-b7f7-17e3b004e98d"
      },
      "execution_count": 57,
      "outputs": [
        {
          "output_type": "display_data",
          "data": {
            "text/plain": [
              "<IPython.core.display.HTML object>"
            ],
            "text/html": [
              "\n",
              "  <style>\n",
              "    pre {\n",
              "        white-space: pre-wrap;\n",
              "    }\n",
              "  </style>\n",
              "  "
            ]
          },
          "metadata": {}
        },
        {
          "output_type": "display_data",
          "data": {
            "text/plain": [
              "<IPython.core.display.HTML object>"
            ],
            "text/html": [
              "\n",
              "  <style>\n",
              "    pre {\n",
              "        white-space: pre-wrap;\n",
              "    }\n",
              "  </style>\n",
              "  "
            ]
          },
          "metadata": {}
        },
        {
          "output_type": "execute_result",
          "data": {
            "text/plain": [
              "                                                text                label  \\\n",
              "0  For the first time since 2008 <p/> Dallas, 12....  __label__subjective   \n",
              "\n",
              "   split  \n",
              "0  train  "
            ],
            "text/html": [
              "\n",
              "  <div id=\"df-31433121-015d-4d56-9146-0ecfc9fbe12d\">\n",
              "    <div class=\"colab-df-container\">\n",
              "      <div>\n",
              "<style scoped>\n",
              "    .dataframe tbody tr th:only-of-type {\n",
              "        vertical-align: middle;\n",
              "    }\n",
              "\n",
              "    .dataframe tbody tr th {\n",
              "        vertical-align: top;\n",
              "    }\n",
              "\n",
              "    .dataframe thead th {\n",
              "        text-align: right;\n",
              "    }\n",
              "</style>\n",
              "<table border=\"1\" class=\"dataframe\">\n",
              "  <thead>\n",
              "    <tr style=\"text-align: right;\">\n",
              "      <th></th>\n",
              "      <th>text</th>\n",
              "      <th>label</th>\n",
              "      <th>split</th>\n",
              "    </tr>\n",
              "  </thead>\n",
              "  <tbody>\n",
              "    <tr>\n",
              "      <th>0</th>\n",
              "      <td>For the first time since 2008 &lt;p/&gt; Dallas, 12....</td>\n",
              "      <td>__label__subjective</td>\n",
              "      <td>train</td>\n",
              "    </tr>\n",
              "  </tbody>\n",
              "</table>\n",
              "</div>\n",
              "      <button class=\"colab-df-convert\" onclick=\"convertToInteractive('df-31433121-015d-4d56-9146-0ecfc9fbe12d')\"\n",
              "              title=\"Convert this dataframe to an interactive table.\"\n",
              "              style=\"display:none;\">\n",
              "        \n",
              "  <svg xmlns=\"http://www.w3.org/2000/svg\" height=\"24px\"viewBox=\"0 0 24 24\"\n",
              "       width=\"24px\">\n",
              "    <path d=\"M0 0h24v24H0V0z\" fill=\"none\"/>\n",
              "    <path d=\"M18.56 5.44l.94 2.06.94-2.06 2.06-.94-2.06-.94-.94-2.06-.94 2.06-2.06.94zm-11 1L8.5 8.5l.94-2.06 2.06-.94-2.06-.94L8.5 2.5l-.94 2.06-2.06.94zm10 10l.94 2.06.94-2.06 2.06-.94-2.06-.94-.94-2.06-.94 2.06-2.06.94z\"/><path d=\"M17.41 7.96l-1.37-1.37c-.4-.4-.92-.59-1.43-.59-.52 0-1.04.2-1.43.59L10.3 9.45l-7.72 7.72c-.78.78-.78 2.05 0 2.83L4 21.41c.39.39.9.59 1.41.59.51 0 1.02-.2 1.41-.59l7.78-7.78 2.81-2.81c.8-.78.8-2.07 0-2.86zM5.41 20L4 18.59l7.72-7.72 1.47 1.35L5.41 20z\"/>\n",
              "  </svg>\n",
              "      </button>\n",
              "      \n",
              "  <style>\n",
              "    .colab-df-container {\n",
              "      display:flex;\n",
              "      flex-wrap:wrap;\n",
              "      gap: 12px;\n",
              "    }\n",
              "\n",
              "    .colab-df-convert {\n",
              "      background-color: #E8F0FE;\n",
              "      border: none;\n",
              "      border-radius: 50%;\n",
              "      cursor: pointer;\n",
              "      display: none;\n",
              "      fill: #1967D2;\n",
              "      height: 32px;\n",
              "      padding: 0 0 0 0;\n",
              "      width: 32px;\n",
              "    }\n",
              "\n",
              "    .colab-df-convert:hover {\n",
              "      background-color: #E2EBFA;\n",
              "      box-shadow: 0px 1px 2px rgba(60, 64, 67, 0.3), 0px 1px 3px 1px rgba(60, 64, 67, 0.15);\n",
              "      fill: #174EA6;\n",
              "    }\n",
              "\n",
              "    [theme=dark] .colab-df-convert {\n",
              "      background-color: #3B4455;\n",
              "      fill: #D2E3FC;\n",
              "    }\n",
              "\n",
              "    [theme=dark] .colab-df-convert:hover {\n",
              "      background-color: #434B5C;\n",
              "      box-shadow: 0px 1px 3px 1px rgba(0, 0, 0, 0.15);\n",
              "      filter: drop-shadow(0px 1px 2px rgba(0, 0, 0, 0.3));\n",
              "      fill: #FFFFFF;\n",
              "    }\n",
              "  </style>\n",
              "\n",
              "      <script>\n",
              "        const buttonEl =\n",
              "          document.querySelector('#df-31433121-015d-4d56-9146-0ecfc9fbe12d button.colab-df-convert');\n",
              "        buttonEl.style.display =\n",
              "          google.colab.kernel.accessAllowed ? 'block' : 'none';\n",
              "\n",
              "        async function convertToInteractive(key) {\n",
              "          const element = document.querySelector('#df-31433121-015d-4d56-9146-0ecfc9fbe12d');\n",
              "          const dataTable =\n",
              "            await google.colab.kernel.invokeFunction('convertToInteractive',\n",
              "                                                     [key], {});\n",
              "          if (!dataTable) return;\n",
              "\n",
              "          const docLinkHtml = 'Like what you see? Visit the ' +\n",
              "            '<a target=\"_blank\" href=https://colab.research.google.com/notebooks/data_table.ipynb>data table notebook</a>'\n",
              "            + ' to learn more about interactive tables.';\n",
              "          element.innerHTML = '';\n",
              "          dataTable['output_type'] = 'display_data';\n",
              "          await google.colab.output.renderOutput(dataTable, element);\n",
              "          const docLink = document.createElement('div');\n",
              "          docLink.innerHTML = docLinkHtml;\n",
              "          element.appendChild(docLink);\n",
              "        }\n",
              "      </script>\n",
              "    </div>\n",
              "  </div>\n",
              "  "
            ]
          },
          "metadata": {},
          "execution_count": 57
        }
      ]
    },
    {
      "cell_type": "code",
      "source": [
        "labels = list(dataset.label.unique())\n",
        "labels"
      ],
      "metadata": {
        "colab": {
          "base_uri": "https://localhost:8080/",
          "height": 35
        },
        "id": "pGTR4H2H4Gsc",
        "outputId": "5b2a9b27-e7f1-4568-d0ac-3738c401e91e"
      },
      "execution_count": 58,
      "outputs": [
        {
          "output_type": "display_data",
          "data": {
            "text/plain": [
              "<IPython.core.display.HTML object>"
            ],
            "text/html": [
              "\n",
              "  <style>\n",
              "    pre {\n",
              "        white-space: pre-wrap;\n",
              "    }\n",
              "  </style>\n",
              "  "
            ]
          },
          "metadata": {}
        },
        {
          "output_type": "display_data",
          "data": {
            "text/plain": [
              "<IPython.core.display.HTML object>"
            ],
            "text/html": [
              "\n",
              "  <style>\n",
              "    pre {\n",
              "        white-space: pre-wrap;\n",
              "    }\n",
              "  </style>\n",
              "  "
            ]
          },
          "metadata": {}
        },
        {
          "output_type": "execute_result",
          "data": {
            "text/plain": [
              "['__label__subjective', '__label__objective']"
            ]
          },
          "metadata": {},
          "execution_count": 58
        }
      ]
    },
    {
      "cell_type": "code",
      "source": [
        "# Split the dataset into train and test split: X are texts, Y are labels\n",
        "train_df = dataset[dataset[\"split\"] == \"train\"]\n",
        "X_train = list(train_df.text)\n",
        "Y_train = list(train_df.label)\n",
        "\n",
        "test_df = dataset[dataset[\"split\"] == \"test\"]\n",
        "X_test = list(test_df.text)\n",
        "Y_test = list(test_df.label)\n",
        "\n",
        "print(len(X_test), len(Y_test))"
      ],
      "metadata": {
        "colab": {
          "base_uri": "https://localhost:8080/",
          "height": 35
        },
        "id": "l7pdoFC04Ip3",
        "outputId": "cfa336aa-b143-489c-8257-99dd9077b07d"
      },
      "execution_count": 59,
      "outputs": [
        {
          "output_type": "display_data",
          "data": {
            "text/plain": [
              "<IPython.core.display.HTML object>"
            ],
            "text/html": [
              "\n",
              "  <style>\n",
              "    pre {\n",
              "        white-space: pre-wrap;\n",
              "    }\n",
              "  </style>\n",
              "  "
            ]
          },
          "metadata": {}
        },
        {
          "output_type": "display_data",
          "data": {
            "text/plain": [
              "<IPython.core.display.HTML object>"
            ],
            "text/html": [
              "\n",
              "  <style>\n",
              "    pre {\n",
              "        white-space: pre-wrap;\n",
              "    }\n",
              "  </style>\n",
              "  "
            ]
          },
          "metadata": {}
        },
        {
          "output_type": "stream",
          "name": "stdout",
          "text": [
            "127 127\n"
          ]
        }
      ]
    },
    {
      "cell_type": "code",
      "source": [
        "# Then create CSV files which FastText can read\n",
        "\n",
        "train_file_content=\"\"\n",
        "\n",
        "for labels, text in train_df.loc[:, [\"label\", \"text\"]].values:\n",
        "    train_file_content += f\"\"\"{labels} {text}\\n\"\"\"\n",
        "\n",
        "with open(\"/content/MT-GINCORE-objectivness-fasttext.train\",\"w\") as train_file:\n",
        "    train_file.write(train_file_content)\n",
        "\n",
        "test_file_content=\"\"\n",
        "\n",
        "for labels, text in test_df.loc[:, [\"label\", \"text\"]].values:\n",
        "    test_file_content += f\"\"\"{labels} {text}\\n\"\"\"\n",
        "\n",
        "with open(\"/content/MT-GINCORE-objectivness-fasttext.test\",\"w\") as test_file:\n",
        "    test_file.write(test_file_content)"
      ],
      "metadata": {
        "colab": {
          "base_uri": "https://localhost:8080/",
          "height": 17
        },
        "id": "O3qToKnR5BHj",
        "outputId": "f3950390-1e63-4ee0-d548-e89597bc54f8"
      },
      "execution_count": 61,
      "outputs": [
        {
          "output_type": "display_data",
          "data": {
            "text/plain": [
              "<IPython.core.display.HTML object>"
            ],
            "text/html": [
              "\n",
              "  <style>\n",
              "    pre {\n",
              "        white-space: pre-wrap;\n",
              "    }\n",
              "  </style>\n",
              "  "
            ]
          },
          "metadata": {}
        },
        {
          "output_type": "display_data",
          "data": {
            "text/plain": [
              "<IPython.core.display.HTML object>"
            ],
            "text/html": [
              "\n",
              "  <style>\n",
              "    pre {\n",
              "        white-space: pre-wrap;\n",
              "    }\n",
              "  </style>\n",
              "  "
            ]
          },
          "metadata": {}
        }
      ]
    },
    {
      "cell_type": "code",
      "source": [
        "train_file = \"/content/MT-GINCORE-objectivness-fasttext.train\"\n",
        "test_file = \"/content/MT-GINCORE-objectivness-fasttext.test\""
      ],
      "metadata": {
        "colab": {
          "base_uri": "https://localhost:8080/",
          "height": 17
        },
        "id": "syNk4-dc5Dxr",
        "outputId": "57dfeded-d9fe-4716-f98e-0f50650bdce9"
      },
      "execution_count": 62,
      "outputs": [
        {
          "output_type": "display_data",
          "data": {
            "text/plain": [
              "<IPython.core.display.HTML object>"
            ],
            "text/html": [
              "\n",
              "  <style>\n",
              "    pre {\n",
              "        white-space: pre-wrap;\n",
              "    }\n",
              "  </style>\n",
              "  "
            ]
          },
          "metadata": {}
        },
        {
          "output_type": "display_data",
          "data": {
            "text/plain": [
              "<IPython.core.display.HTML object>"
            ],
            "text/html": [
              "\n",
              "  <style>\n",
              "    pre {\n",
              "        white-space: pre-wrap;\n",
              "    }\n",
              "  </style>\n",
              "  "
            ]
          },
          "metadata": {}
        }
      ]
    },
    {
      "cell_type": "code",
      "source": [
        "# Create a list of labels in a FastText-appropriate format:\n",
        "LABELS = train_df.label.unique().tolist()\n",
        "LABELS"
      ],
      "metadata": {
        "colab": {
          "base_uri": "https://localhost:8080/",
          "height": 35
        },
        "id": "e0syFu-Z5Lvk",
        "outputId": "294fe9f4-b587-4d1d-c69b-19284e78bd83"
      },
      "execution_count": 64,
      "outputs": [
        {
          "output_type": "display_data",
          "data": {
            "text/plain": [
              "<IPython.core.display.HTML object>"
            ],
            "text/html": [
              "\n",
              "  <style>\n",
              "    pre {\n",
              "        white-space: pre-wrap;\n",
              "    }\n",
              "  </style>\n",
              "  "
            ]
          },
          "metadata": {}
        },
        {
          "output_type": "display_data",
          "data": {
            "text/plain": [
              "<IPython.core.display.HTML object>"
            ],
            "text/html": [
              "\n",
              "  <style>\n",
              "    pre {\n",
              "        white-space: pre-wrap;\n",
              "    }\n",
              "  </style>\n",
              "  "
            ]
          },
          "metadata": {}
        },
        {
          "output_type": "execute_result",
          "data": {
            "text/plain": [
              "['__label__subjective', '__label__objective']"
            ]
          },
          "metadata": {},
          "execution_count": 64
        }
      ]
    },
    {
      "cell_type": "code",
      "source": [
        "# train the model\n",
        "\n",
        "model = ft.train_supervised(input=train_file,\n",
        "                                epoch = 350,\n",
        "                                lr = 0.7,\n",
        "                                wordNgrams=1,\n",
        "                                verbose = 2)"
      ],
      "metadata": {
        "colab": {
          "base_uri": "https://localhost:8080/",
          "height": 17
        },
        "id": "mCskjOm85M6T",
        "outputId": "7f1db69e-8786-43f9-eb31-65f92950f85b"
      },
      "execution_count": 65,
      "outputs": [
        {
          "output_type": "display_data",
          "data": {
            "text/plain": [
              "<IPython.core.display.HTML object>"
            ],
            "text/html": [
              "\n",
              "  <style>\n",
              "    pre {\n",
              "        white-space: pre-wrap;\n",
              "    }\n",
              "  </style>\n",
              "  "
            ]
          },
          "metadata": {}
        },
        {
          "output_type": "display_data",
          "data": {
            "text/plain": [
              "<IPython.core.display.HTML object>"
            ],
            "text/html": [
              "\n",
              "  <style>\n",
              "    pre {\n",
              "        white-space: pre-wrap;\n",
              "    }\n",
              "  </style>\n",
              "  "
            ]
          },
          "metadata": {}
        }
      ]
    },
    {
      "cell_type": "code",
      "source": [
        "# Evaluate the model on test data\n",
        "y_pred = model.predict(list(test_df.text))\n",
        "y_pred = np.array(y_pred[0])[:, 0]\n",
        "y_pred"
      ],
      "metadata": {
        "colab": {
          "base_uri": "https://localhost:8080/",
          "height": 879
        },
        "id": "-GTB9FsN6VXY",
        "outputId": "a5fdce69-3aec-4fa7-9e58-e52b92925b9c"
      },
      "execution_count": 66,
      "outputs": [
        {
          "output_type": "display_data",
          "data": {
            "text/plain": [
              "<IPython.core.display.HTML object>"
            ],
            "text/html": [
              "\n",
              "  <style>\n",
              "    pre {\n",
              "        white-space: pre-wrap;\n",
              "    }\n",
              "  </style>\n",
              "  "
            ]
          },
          "metadata": {}
        },
        {
          "output_type": "display_data",
          "data": {
            "text/plain": [
              "<IPython.core.display.HTML object>"
            ],
            "text/html": [
              "\n",
              "  <style>\n",
              "    pre {\n",
              "        white-space: pre-wrap;\n",
              "    }\n",
              "  </style>\n",
              "  "
            ]
          },
          "metadata": {}
        },
        {
          "output_type": "execute_result",
          "data": {
            "text/plain": [
              "array(['__label__subjective', '__label__subjective',\n",
              "       '__label__subjective', '__label__objective', '__label__subjective',\n",
              "       '__label__subjective', '__label__subjective', '__label__objective',\n",
              "       '__label__subjective', '__label__subjective',\n",
              "       '__label__subjective', '__label__subjective',\n",
              "       '__label__subjective', '__label__objective', '__label__objective',\n",
              "       '__label__subjective', '__label__subjective', '__label__objective',\n",
              "       '__label__subjective', '__label__subjective',\n",
              "       '__label__subjective', '__label__subjective', '__label__objective',\n",
              "       '__label__subjective', '__label__objective', '__label__subjective',\n",
              "       '__label__subjective', '__label__subjective',\n",
              "       '__label__subjective', '__label__subjective', '__label__objective',\n",
              "       '__label__subjective', '__label__objective', '__label__subjective',\n",
              "       '__label__objective', '__label__subjective', '__label__subjective',\n",
              "       '__label__subjective', '__label__subjective', '__label__objective',\n",
              "       '__label__subjective', '__label__objective', '__label__subjective',\n",
              "       '__label__subjective', '__label__subjective',\n",
              "       '__label__subjective', '__label__objective', '__label__subjective',\n",
              "       '__label__subjective', '__label__subjective',\n",
              "       '__label__subjective', '__label__objective', '__label__objective',\n",
              "       '__label__objective', '__label__objective', '__label__subjective',\n",
              "       '__label__subjective', '__label__objective', '__label__objective',\n",
              "       '__label__objective', '__label__subjective', '__label__subjective',\n",
              "       '__label__objective', '__label__objective', '__label__objective',\n",
              "       '__label__objective', '__label__subjective', '__label__objective',\n",
              "       '__label__objective', '__label__objective', '__label__objective',\n",
              "       '__label__subjective', '__label__objective', '__label__subjective',\n",
              "       '__label__subjective', '__label__subjective',\n",
              "       '__label__subjective', '__label__objective', '__label__objective',\n",
              "       '__label__subjective', '__label__subjective',\n",
              "       '__label__subjective', '__label__subjective',\n",
              "       '__label__subjective', '__label__subjective',\n",
              "       '__label__subjective', '__label__subjective',\n",
              "       '__label__subjective', '__label__subjective', '__label__objective',\n",
              "       '__label__subjective', '__label__subjective',\n",
              "       '__label__subjective', '__label__objective', '__label__objective',\n",
              "       '__label__subjective', '__label__objective', '__label__subjective',\n",
              "       '__label__subjective', '__label__subjective', '__label__objective',\n",
              "       '__label__subjective', '__label__subjective', '__label__objective',\n",
              "       '__label__subjective', '__label__objective', '__label__subjective',\n",
              "       '__label__subjective', '__label__subjective',\n",
              "       '__label__subjective', '__label__objective', '__label__objective',\n",
              "       '__label__subjective', '__label__subjective',\n",
              "       '__label__subjective', '__label__subjective', '__label__objective',\n",
              "       '__label__subjective', '__label__objective', '__label__subjective',\n",
              "       '__label__subjective', '__label__objective', '__label__subjective',\n",
              "       '__label__objective', '__label__subjective', '__label__objective',\n",
              "       '__label__objective'], dtype='<U19')"
            ]
          },
          "metadata": {},
          "execution_count": 66
        }
      ]
    },
    {
      "cell_type": "code",
      "source": [
        "Y_test"
      ],
      "metadata": {
        "colab": {
          "base_uri": "https://localhost:8080/",
          "height": 1000
        },
        "id": "rsHmRhcR7ylA",
        "outputId": "59a6c7f4-7131-44fe-b771-01a926ee79ef"
      },
      "execution_count": 67,
      "outputs": [
        {
          "output_type": "display_data",
          "data": {
            "text/plain": [
              "<IPython.core.display.HTML object>"
            ],
            "text/html": [
              "\n",
              "  <style>\n",
              "    pre {\n",
              "        white-space: pre-wrap;\n",
              "    }\n",
              "  </style>\n",
              "  "
            ]
          },
          "metadata": {}
        },
        {
          "output_type": "display_data",
          "data": {
            "text/plain": [
              "<IPython.core.display.HTML object>"
            ],
            "text/html": [
              "\n",
              "  <style>\n",
              "    pre {\n",
              "        white-space: pre-wrap;\n",
              "    }\n",
              "  </style>\n",
              "  "
            ]
          },
          "metadata": {}
        },
        {
          "output_type": "execute_result",
          "data": {
            "text/plain": [
              "['__label__subjective',\n",
              " '__label__subjective',\n",
              " '__label__subjective',\n",
              " '__label__objective',\n",
              " '__label__subjective',\n",
              " '__label__subjective',\n",
              " '__label__objective',\n",
              " '__label__objective',\n",
              " '__label__subjective',\n",
              " '__label__subjective',\n",
              " '__label__subjective',\n",
              " '__label__subjective',\n",
              " '__label__subjective',\n",
              " '__label__objective',\n",
              " '__label__subjective',\n",
              " '__label__subjective',\n",
              " '__label__subjective',\n",
              " '__label__objective',\n",
              " '__label__subjective',\n",
              " '__label__subjective',\n",
              " '__label__subjective',\n",
              " '__label__objective',\n",
              " '__label__objective',\n",
              " '__label__subjective',\n",
              " '__label__subjective',\n",
              " '__label__subjective',\n",
              " '__label__subjective',\n",
              " '__label__objective',\n",
              " '__label__subjective',\n",
              " '__label__subjective',\n",
              " '__label__objective',\n",
              " '__label__subjective',\n",
              " '__label__objective',\n",
              " '__label__objective',\n",
              " '__label__subjective',\n",
              " '__label__subjective',\n",
              " '__label__subjective',\n",
              " '__label__subjective',\n",
              " '__label__subjective',\n",
              " '__label__objective',\n",
              " '__label__subjective',\n",
              " '__label__objective',\n",
              " '__label__subjective',\n",
              " '__label__subjective',\n",
              " '__label__subjective',\n",
              " '__label__subjective',\n",
              " '__label__objective',\n",
              " '__label__subjective',\n",
              " '__label__objective',\n",
              " '__label__objective',\n",
              " '__label__subjective',\n",
              " '__label__objective',\n",
              " '__label__subjective',\n",
              " '__label__subjective',\n",
              " '__label__objective',\n",
              " '__label__subjective',\n",
              " '__label__objective',\n",
              " '__label__objective',\n",
              " '__label__objective',\n",
              " '__label__subjective',\n",
              " '__label__subjective',\n",
              " '__label__objective',\n",
              " '__label__objective',\n",
              " '__label__subjective',\n",
              " '__label__objective',\n",
              " '__label__objective',\n",
              " '__label__subjective',\n",
              " '__label__objective',\n",
              " '__label__subjective',\n",
              " '__label__objective',\n",
              " '__label__subjective',\n",
              " '__label__subjective',\n",
              " '__label__objective',\n",
              " '__label__subjective',\n",
              " '__label__subjective',\n",
              " '__label__subjective',\n",
              " '__label__subjective',\n",
              " '__label__objective',\n",
              " '__label__objective',\n",
              " '__label__objective',\n",
              " '__label__subjective',\n",
              " '__label__subjective',\n",
              " '__label__subjective',\n",
              " '__label__subjective',\n",
              " '__label__objective',\n",
              " '__label__subjective',\n",
              " '__label__objective',\n",
              " '__label__objective',\n",
              " '__label__objective',\n",
              " '__label__objective',\n",
              " '__label__subjective',\n",
              " '__label__objective',\n",
              " '__label__objective',\n",
              " '__label__objective',\n",
              " '__label__subjective',\n",
              " '__label__subjective',\n",
              " '__label__objective',\n",
              " '__label__objective',\n",
              " '__label__subjective',\n",
              " '__label__objective',\n",
              " '__label__objective',\n",
              " '__label__subjective',\n",
              " '__label__subjective',\n",
              " '__label__objective',\n",
              " '__label__subjective',\n",
              " '__label__subjective',\n",
              " '__label__subjective',\n",
              " '__label__subjective',\n",
              " '__label__subjective',\n",
              " '__label__objective',\n",
              " '__label__objective',\n",
              " '__label__subjective',\n",
              " '__label__subjective',\n",
              " '__label__subjective',\n",
              " '__label__subjective',\n",
              " '__label__subjective',\n",
              " '__label__subjective',\n",
              " '__label__subjective',\n",
              " '__label__objective',\n",
              " '__label__subjective',\n",
              " '__label__subjective',\n",
              " '__label__objective',\n",
              " '__label__subjective',\n",
              " '__label__objective',\n",
              " '__label__subjective',\n",
              " '__label__objective',\n",
              " '__label__objective']"
            ]
          },
          "metadata": {},
          "execution_count": 67
        }
      ]
    },
    {
      "cell_type": "code",
      "source": [
        "# Plot the confusion matrix for the desired model. You can normalise the values with the attribute \"normalize\":\n",
        "# \"true\" - normalize across rows, \"all\" = normalize by total no. of samples,\n",
        "# \"pred\" - normalize across columns\n",
        "dp = ConfusionMatrixDisplay.from_predictions(list(Y_test), list(y_pred), labels = LABELS, xticks_rotation=90, cmap='plasma', colorbar=True, values_format=\".1g\")\n",
        "\n",
        "# To make the plot bigger:\n",
        "fig, ax = plt.subplots(figsize=(9,9))\n",
        "dp.plot(ax=ax)\n",
        "plt.xticks(np.arange(len(LABELS)), LABELS, rotation=90)"
      ],
      "metadata": {
        "colab": {
          "base_uri": "https://localhost:8080/",
          "height": 995
        },
        "id": "jJCiw62D7zoM",
        "outputId": "cd2203e6-e78e-4303-be35-c161c135e3b3"
      },
      "execution_count": 68,
      "outputs": [
        {
          "output_type": "display_data",
          "data": {
            "text/plain": [
              "<IPython.core.display.HTML object>"
            ],
            "text/html": [
              "\n",
              "  <style>\n",
              "    pre {\n",
              "        white-space: pre-wrap;\n",
              "    }\n",
              "  </style>\n",
              "  "
            ]
          },
          "metadata": {}
        },
        {
          "output_type": "display_data",
          "data": {
            "text/plain": [
              "<IPython.core.display.HTML object>"
            ],
            "text/html": [
              "\n",
              "  <style>\n",
              "    pre {\n",
              "        white-space: pre-wrap;\n",
              "    }\n",
              "  </style>\n",
              "  "
            ]
          },
          "metadata": {}
        },
        {
          "output_type": "execute_result",
          "data": {
            "text/plain": [
              "([<matplotlib.axis.XTick at 0x7f90f8068f90>,\n",
              "  <matplotlib.axis.XTick at 0x7f90f8068f50>],\n",
              " [Text(0, 0, '__label__subjective'), Text(0, 0, '__label__objective')])"
            ]
          },
          "metadata": {},
          "execution_count": 68
        },
        {
          "output_type": "display_data",
          "data": {
            "text/plain": [
              "<Figure size 432x288 with 2 Axes>"
            ],
            "image/png": "[encoded data removed]"
          },
          "metadata": {
            "needs_background": "light"
          }
        },
        {
          "output_type": "display_data",
          "data": {
            "text/plain": [
              "<Figure size 648x648 with 2 Axes>"
            ],
            "image/png": "[encoded data removed]"
          },
          "metadata": {
            "needs_background": "light"
          }
        }
      ]
    },
    {
      "cell_type": "code",
      "source": [
        "# Save the results\n",
        "results = {}\n",
        "\n",
        "\n",
        "y_pred_list = list(y_pred)\n",
        "\n",
        "model_name=\"FastText\"\n",
        "micro_f1_array = round(f1_score(Y_test, y_pred, labels=labels, average =\"micro\"),3)\n",
        "macro_f1_array = round(f1_score(Y_test, y_pred, labels=labels, average =\"macro\"),3)\n",
        "accuracy_array = round(metrics.accuracy_score(Y_test, y_pred),3)\n",
        "\n",
        "results = {\"model\":model_name, \"microF1\": micro_f1_array, \"macroF1\":macro_f1_array, \"accuracy\":accuracy_array, \"y_pred\":y_pred_list}"
      ],
      "metadata": {
        "colab": {
          "base_uri": "https://localhost:8080/",
          "height": 17
        },
        "id": "IKHK05mI4ONa",
        "outputId": "ac24ff2c-0546-42a1-fe78-53e17b3461af"
      },
      "execution_count": 69,
      "outputs": [
        {
          "output_type": "display_data",
          "data": {
            "text/plain": [
              "<IPython.core.display.HTML object>"
            ],
            "text/html": [
              "\n",
              "  <style>\n",
              "    pre {\n",
              "        white-space: pre-wrap;\n",
              "    }\n",
              "  </style>\n",
              "  "
            ]
          },
          "metadata": {}
        },
        {
          "output_type": "display_data",
          "data": {
            "text/plain": [
              "<IPython.core.display.HTML object>"
            ],
            "text/html": [
              "\n",
              "  <style>\n",
              "    pre {\n",
              "        white-space: pre-wrap;\n",
              "    }\n",
              "  </style>\n",
              "  "
            ]
          },
          "metadata": {}
        }
      ]
    },
    {
      "cell_type": "code",
      "source": [
        "print(results)"
      ],
      "metadata": {
        "colab": {
          "base_uri": "https://localhost:8080/",
          "height": 609
        },
        "id": "Dc_tmDLp8FPr",
        "outputId": "30c2b66a-e8a9-4190-cc7d-18e122c2c541"
      },
      "execution_count": 70,
      "outputs": [
        {
          "output_type": "display_data",
          "data": {
            "text/plain": [
              "<IPython.core.display.HTML object>"
            ],
            "text/html": [
              "\n",
              "  <style>\n",
              "    pre {\n",
              "        white-space: pre-wrap;\n",
              "    }\n",
              "  </style>\n",
              "  "
            ]
          },
          "metadata": {}
        },
        {
          "output_type": "display_data",
          "data": {
            "text/plain": [
              "<IPython.core.display.HTML object>"
            ],
            "text/html": [
              "\n",
              "  <style>\n",
              "    pre {\n",
              "        white-space: pre-wrap;\n",
              "    }\n",
              "  </style>\n",
              "  "
            ]
          },
          "metadata": {}
        },
        {
          "output_type": "stream",
          "name": "stdout",
          "text": [
            "{'model': 'FastText', 'microF1': 0.756, 'macroF1': 0.741, 'accuracy': 0.756, 'y_pred': ['__label__subjective', '__label__subjective', '__label__subjective', '__label__objective', '__label__subjective', '__label__subjective', '__label__subjective', '__label__objective', '__label__subjective', '__label__subjective', '__label__subjective', '__label__subjective', '__label__subjective', '__label__objective', '__label__objective', '__label__subjective', '__label__subjective', '__label__objective', '__label__subjective', '__label__subjective', '__label__subjective', '__label__subjective', '__label__objective', '__label__subjective', '__label__objective', '__label__subjective', '__label__subjective', '__label__subjective', '__label__subjective', '__label__subjective', '__label__objective', '__label__subjective', '__label__objective', '__label__subjective', '__label__objective', '__label__subjective', '__label__subjective', '__label__subjective', '__label__subjective', '__label__objective', '__label__subjective', '__label__objective', '__label__subjective', '__label__subjective', '__label__subjective', '__label__subjective', '__label__objective', '__label__subjective', '__label__subjective', '__label__subjective', '__label__subjective', '__label__objective', '__label__objective', '__label__objective', '__label__objective', '__label__subjective', '__label__subjective', '__label__objective', '__label__objective', '__label__objective', '__label__subjective', '__label__subjective', '__label__objective', '__label__objective', '__label__objective', '__label__objective', '__label__subjective', '__label__objective', '__label__objective', '__label__objective', '__label__objective', '__label__subjective', '__label__objective', '__label__subjective', '__label__subjective', '__label__subjective', '__label__subjective', '__label__objective', '__label__objective', '__label__subjective', '__label__subjective', '__label__subjective', '__label__subjective', '__label__subjective', '__label__subjective', '__label__subjective', '__label__subjective', '__label__subjective', '__label__subjective', '__label__objective', '__label__subjective', '__label__subjective', '__label__subjective', '__label__objective', '__label__objective', '__label__subjective', '__label__objective', '__label__subjective', '__label__subjective', '__label__subjective', '__label__objective', '__label__subjective', '__label__subjective', '__label__objective', '__label__subjective', '__label__objective', '__label__subjective', '__label__subjective', '__label__subjective', '__label__subjective', '__label__objective', '__label__objective', '__label__subjective', '__label__subjective', '__label__subjective', '__label__subjective', '__label__objective', '__label__subjective', '__label__objective', '__label__subjective', '__label__subjective', '__label__objective', '__label__subjective', '__label__objective', '__label__subjective', '__label__objective', '__label__objective']}\n"
          ]
        }
      ]
    },
    {
      "cell_type": "code",
      "source": [
        "# Save results as JSON file\n",
        "import json\n",
        "\n",
        "with open(\"fastText_results.json\",\"w\") as file:\n",
        "  json.dump(results, file)"
      ],
      "metadata": {
        "colab": {
          "base_uri": "https://localhost:8080/",
          "height": 17
        },
        "id": "nW5Rh0ax9_2v",
        "outputId": "6696ced4-1e23-4236-d350-40f82ccd0f5e"
      },
      "execution_count": 71,
      "outputs": [
        {
          "output_type": "display_data",
          "data": {
            "text/plain": [
              "<IPython.core.display.HTML object>"
            ],
            "text/html": [
              "\n",
              "  <style>\n",
              "    pre {\n",
              "        white-space: pre-wrap;\n",
              "    }\n",
              "  </style>\n",
              "  "
            ]
          },
          "metadata": {}
        },
        {
          "output_type": "display_data",
          "data": {
            "text/plain": [
              "<IPython.core.display.HTML object>"
            ],
            "text/html": [
              "\n",
              "  <style>\n",
              "    pre {\n",
              "        white-space: pre-wrap;\n",
              "    }\n",
              "  </style>\n",
              "  "
            ]
          },
          "metadata": {}
        }
      ]
    }
  ]
}